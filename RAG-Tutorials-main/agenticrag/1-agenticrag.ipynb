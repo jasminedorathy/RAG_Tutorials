{
 "cells": [
  {
   "cell_type": "markdown",
   "id": "4124f622",
   "metadata": {},
   "source": [
    "### Agentic RAG With LangGraph"
   ]
  },
  {
   "cell_type": "code",
   "execution_count": 18,
   "id": "7309ffec",
   "metadata": {},
   "outputs": [],
   "source": [
    "import os\n",
    "from typing import TypedDict, List\n",
    "from langgraph.graph import StateGraph, END\n",
    "from langchain_openai import ChatOpenAI, OpenAIEmbeddings\n",
    "from langchain_community.vectorstores import FAISS\n",
    "from langchain.text_splitter import RecursiveCharacterTextSplitter\n",
    "from langchain.schema import Document"
   ]
  },
  {
   "cell_type": "code",
   "execution_count": 19,
   "id": "733dbdd0",
   "metadata": {},
   "outputs": [
    {
     "data": {
      "text/plain": [
       "True"
      ]
     },
     "execution_count": 19,
     "metadata": {},
     "output_type": "execute_result"
    }
   ],
   "source": [
    "import os\n",
    "from dotenv import load_dotenv\n",
    "load_dotenv()"
   ]
  },
  {
   "cell_type": "code",
   "execution_count": 20,
   "id": "3675ecda",
   "metadata": {},
   "outputs": [],
   "source": [
    "# Set your OpenAI API key\n",
    "os.environ[\"OPENAI_API_KEY\"] = os.getenv(\"OPENAI_API_KEY\")\n",
    "\n",
    "# Initialize models\n",
    "llm = ChatOpenAI(model=\"gpt-4.1\", temperature=0)\n",
    "embeddings = OpenAIEmbeddings()"
   ]
  },
  {
   "cell_type": "code",
   "execution_count": 21,
   "id": "7f5a3353",
   "metadata": {},
   "outputs": [
    {
     "data": {
      "text/plain": [
       "ChatOpenAI(client=<openai.resources.chat.completions.completions.Completions object at 0x000001C7CF964B90>, async_client=<openai.resources.chat.completions.completions.AsyncCompletions object at 0x000001C7CF9651D0>, root_client=<openai.OpenAI object at 0x000001C7D039DE50>, root_async_client=<openai.AsyncOpenAI object at 0x000001C7CF964E10>, model_name='gpt-4.1', temperature=0.0, model_kwargs={}, openai_api_key=SecretStr('**********'))"
      ]
     },
     "execution_count": 21,
     "metadata": {},
     "output_type": "execute_result"
    }
   ],
   "source": [
    "llm"
   ]
  },
  {
   "cell_type": "markdown",
   "id": "7424db63",
   "metadata": {},
   "source": [
    "## State Definition"
   ]
  },
  {
   "cell_type": "code",
   "execution_count": 22,
   "id": "59befbc8",
   "metadata": {},
   "outputs": [],
   "source": [
    "class AgentState(TypedDict):\n",
    "    question: str\n",
    "    documents: List[Document]\n",
    "    answer: str\n",
    "    needs_retrieval: bool"
   ]
  },
  {
   "cell_type": "code",
   "execution_count": 23,
   "id": "ad06275d",
   "metadata": {},
   "outputs": [],
   "source": [
    "### Sample Docuemnt And VectorStore\n",
    "# Sample documents for demonstration\n",
    "sample_texts = [\n",
    "    \"LangGraph is a library for building stateful, multi-actor applications with LLMs. It extends LangChain with the ability to coordinate multiple chains across multiple steps of computation in a cyclic manner.\",\n",
    "    \"RAG (Retrieval-Augmented Generation) is a technique that combines information retrieval with text generation. It retrieves relevant documents and uses them to provide context for generating more accurate responses.\",\n",
    "    \"Vector databases store high-dimensional vectors and enable efficient similarity search. They are commonly used in RAG systems to find relevant documents based on semantic similarity.\",\n",
    "    \"Agentic systems are AI systems that can take actions, make decisions, and interact with their environment autonomously. They often use planning and reasoning capabilities.\"\n",
    "]\n",
    "\n",
    "documents=[Document(page_content=text) for text in sample_texts]\n",
    "\n",
    "##create vector store\n",
    "vectorstore = FAISS.from_documents(documents, embeddings)\n",
    "retriever = vectorstore.as_retriever(k=3)"
   ]
  },
  {
   "cell_type": "markdown",
   "id": "514f94c2",
   "metadata": {},
   "source": [
    "### Agents function"
   ]
  },
  {
   "cell_type": "code",
   "execution_count": 24,
   "id": "8586493c",
   "metadata": {},
   "outputs": [],
   "source": [
    "def decide_retrieval(state: AgentState) -> AgentState:\n",
    "    \"\"\"\n",
    "    Decide if we need to retrieve documents based on the question\n",
    "    \"\"\"\n",
    "    question = state[\"question\"]\n",
    "    \n",
    "    # Simple heuristic: if question contains certain keywords, retrieve\n",
    "    retrieval_keywords = [\"what\", \"how\", \"explain\", \"describe\", \"tell me\"]\n",
    "    needs_retrieval = any(keyword in question.lower() for keyword in retrieval_keywords)\n",
    "    \n",
    "    return {**state, \"needs_retrieval\": needs_retrieval}"
   ]
  },
  {
   "cell_type": "code",
   "execution_count": 25,
   "id": "46abbde1",
   "metadata": {},
   "outputs": [],
   "source": [
    "def retrieve_documents(state: AgentState) -> AgentState:\n",
    "    \"\"\"\n",
    "    Retrieve relevant documents based on the question\n",
    "    \"\"\"\n",
    "    question = state[\"question\"]\n",
    "    documents = retriever.invoke(question)\n",
    "    \n",
    "    return {**state, \"documents\": documents}"
   ]
  },
  {
   "cell_type": "code",
   "execution_count": 26,
   "id": "b6d44011",
   "metadata": {},
   "outputs": [],
   "source": [
    "def generate_answer(state: AgentState) -> AgentState:\n",
    "    \"\"\"\n",
    "    Generate an answer using the retrieved documents or direct response\n",
    "    \"\"\"\n",
    "    question = state[\"question\"]\n",
    "    documents = state.get(\"documents\", [])\n",
    "    \n",
    "    if documents:\n",
    "        # RAG approach: use documents as context\n",
    "        context = \"\\n\\n\".join([doc.page_content for doc in documents])\n",
    "        prompt = f\"\"\"Based on the following context, answer the question:\n",
    "\n",
    "Context:\n",
    "{context}\n",
    "\n",
    "Question: {question}\n",
    "\n",
    "Answer:\"\"\"\n",
    "    else:\n",
    "        # Direct response without retrieval\n",
    "        prompt = f\"Answer the following question: {question}\"\n",
    "    \n",
    "    response = llm.invoke(prompt)\n",
    "    answer = response.content\n",
    "    \n",
    "    return {**state, \"answer\": answer}"
   ]
  },
  {
   "cell_type": "markdown",
   "id": "11c2e947",
   "metadata": {},
   "source": [
    "### conditional Logic"
   ]
  },
  {
   "cell_type": "code",
   "execution_count": 27,
   "id": "b240fb29",
   "metadata": {},
   "outputs": [],
   "source": [
    "def should_retrieve(state: AgentState) -> str:\n",
    "    \"\"\"\n",
    "    Determine the next step based on retrieval decision\n",
    "    \"\"\"\n",
    "    if state[\"needs_retrieval\"]:\n",
    "        return \"retrieve\"\n",
    "    else:\n",
    "        return \"generate\""
   ]
  },
  {
   "cell_type": "markdown",
   "id": "92f8aa18",
   "metadata": {},
   "source": [
    "### build the Graph"
   ]
  },
  {
   "cell_type": "code",
   "execution_count": 28,
   "id": "f0ea2c36",
   "metadata": {},
   "outputs": [
    {
     "data": {
      "image/png": "[encoded data removed]",
      "text/plain": [
       "<langgraph.graph.state.CompiledStateGraph object at 0x000001C7CF966490>"
      ]
     },
     "execution_count": 28,
     "metadata": {},
     "output_type": "execute_result"
    }
   ],
   "source": [
    "# Create the state graph\n",
    "workflow = StateGraph(AgentState)\n",
    "\n",
    "# Add nodes\n",
    "workflow.add_node(\"decide\", decide_retrieval)\n",
    "workflow.add_node(\"retrieve\", retrieve_documents)\n",
    "workflow.add_node(\"generate\", generate_answer)\n",
    "\n",
    "# Set entry point\n",
    "workflow.set_entry_point(\"decide\")\n",
    "\n",
    "# Add conditional edges\n",
    "workflow.add_conditional_edges(\n",
    "    \"decide\",\n",
    "    should_retrieve,\n",
    "    {\n",
    "        \"retrieve\": \"retrieve\",\n",
    "        \"generate\": \"generate\"\n",
    "    }\n",
    ")\n",
    "\n",
    "# Add edges\n",
    "workflow.add_edge(\"retrieve\", \"generate\")\n",
    "workflow.add_edge(\"generate\", END)\n",
    "\n",
    "# Compile the graph\n",
    "app = workflow.compile()\n",
    "app"
   ]
  },
  {
   "cell_type": "markdown",
   "id": "bf98bef7",
   "metadata": {},
   "source": [
    "### test the Agentic System"
   ]
  },
  {
   "cell_type": "code",
   "execution_count": 29,
   "id": "fe6349f1",
   "metadata": {},
   "outputs": [],
   "source": [
    "def ask_question(question: str):\n",
    "    \"\"\"\n",
    "    Helper function to ask a question and get an answer\n",
    "    \"\"\"\n",
    "    initial_state = {\n",
    "        \"question\": question,\n",
    "        \"documents\": [],\n",
    "        \"answer\": \"\",\n",
    "        \"needs_retrieval\": False\n",
    "    }\n",
    "    \n",
    "    result = app.invoke(initial_state)\n",
    "    return result"
   ]
  },
  {
   "cell_type": "code",
   "execution_count": 30,
   "id": "5d321ee0",
   "metadata": {},
   "outputs": [
    {
     "data": {
      "text/plain": [
       "{'question': 'What is LangGraph?',\n",
       " 'documents': [Document(id='30677815-a9f6-4f14-8920-5421b5eefb14', metadata={}, page_content='LangGraph is a library for building stateful, multi-actor applications with LLMs. It extends LangChain with the ability to coordinate multiple chains across multiple steps of computation in a cyclic manner.'),\n",
       "  Document(id='353f0046-6350-426f-b24b-4bfa2a71b093', metadata={}, page_content='RAG (Retrieval-Augmented Generation) is a technique that combines information retrieval with text generation. It retrieves relevant documents and uses them to provide context for generating more accurate responses.'),\n",
       "  Document(id='a9ecfc07-01f0-450e-ac3f-b345ea2528d0', metadata={}, page_content='Vector databases store high-dimensional vectors and enable efficient similarity search. They are commonly used in RAG systems to find relevant documents based on semantic similarity.'),\n",
       "  Document(id='062bcab7-fb6e-422a-9e53-e7e7c5a4304b', metadata={}, page_content='Agentic systems are AI systems that can take actions, make decisions, and interact with their environment autonomously. They often use planning and reasoning capabilities.')],\n",
       " 'answer': 'LangGraph is a library for building stateful, multi-actor applications with large language models (LLMs). It extends LangChain by enabling the coordination of multiple chains (or agents) across multiple steps of computation in a cyclic manner, allowing for more complex workflows and interactions between different components in an application.',\n",
       " 'needs_retrieval': True}"
      ]
     },
     "execution_count": 30,
     "metadata": {},
     "output_type": "execute_result"
    }
   ],
   "source": [
    "# Test with a question that should trigger retrieval\n",
    "question1 = \"What is LangGraph?\"\n",
    "result1 = ask_question(question1)\n",
    "result1"
   ]
  },
  {
   "cell_type": "code",
   "execution_count": 31,
   "id": "34ca35af",
   "metadata": {},
   "outputs": [
    {
     "name": "stdout",
     "output_type": "stream",
     "text": [
      "Question: How does RAG work?\n",
      "Retrieved documents: 4\n",
      "Answer: RAG (Retrieval-Augmented Generation) works by combining information retrieval with text generation to produce more accurate and contextually relevant responses. Here’s how it works:\n",
      "\n",
      "1. **Retrieval Step:**  \n",
      "   When a user asks a question, the system first retrieves relevant documents or passages from a large collection of data. This is often done using a vector database, which stores documents as high-dimensional vectors and enables efficient similarity search based on the semantic meaning of the query.\n",
      "\n",
      "2. **Augmentation Step:**  \n",
      "   The retrieved documents are then used to provide additional context to the language model. This means the model has access to up-to-date or domain-specific information that may not be present in its original training data.\n",
      "\n",
      "3. **Generation Step:**  \n",
      "   The language model (such as an LLM) takes both the user’s question and the retrieved context to generate a final, informed response. This helps the model produce answers that are more accurate, grounded, and relevant to the user’s query.\n",
      "\n",
      "In summary, RAG enhances the capabilities of language models by supplementing them with external knowledge retrieved in real time, leading to better and more reliable answers.\n",
      "\n",
      "==================================================\n",
      "\n"
     ]
    }
   ],
   "source": [
    "# Test with another question\n",
    "question2 = \"How does RAG work?\"\n",
    "result2 = ask_question(question2)\n",
    "\n",
    "print(f\"Question: {question2}\")\n",
    "print(f\"Retrieved documents: {len(result2['documents'])}\")\n",
    "print(f\"Answer: {result2['answer']}\")\n",
    "print(\"\\n\" + \"=\"*50 + \"\\n\")"
   ]
  }
 ],
 "metadata": {
  "kernelspec": {
   "display_name": "YTRAG",
   "language": "python",
   "name": "python3"
  },
  "language_info": {
   "codemirror_mode": {
    "name": "ipython",
    "version": 3
   },
   "file_extension": ".py",
   "mimetype": "text/x-python",
   "name": "python",
   "nbconvert_exporter": "python",
   "pygments_lexer": "ipython3",
   "version": "3.13.2"
  }
 },
 "nbformat": 4,
 "nbformat_minor": 5
}
